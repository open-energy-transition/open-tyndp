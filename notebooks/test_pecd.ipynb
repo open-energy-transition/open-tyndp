{
 "cells": [
  {
   "cell_type": "raw",
   "id": "34b0c9d21186ed1b",
   "metadata": {},
   "source": [
    "SPDX-FileCopyrightText: Open Energy Transition gGmbH\n",
    "SPDX-License-Identifier: MIT"
   ]
  },
  {
   "cell_type": "markdown",
   "id": "26c90410",
   "metadata": {},
   "source": [
    "This notebooks compares the available PECD data with the necessary data for TYNDP Scenarios for:\n",
    "- [Wind Offshore](#wind-offshore)\n",
    "- [Wind Onshore](#wind-onshore)\n",
    "- [LF Solar PV Rooftop](#pv-rooftop)\n",
    "- [LF Solar PV Utility](#pv-utility)"
   ]
  },
  {
   "cell_type": "markdown",
   "id": "fb198b53545bc593",
   "metadata": {},
   "source": [
    "# Imports"
   ]
  },
  {
   "cell_type": "code",
   "id": "22c0b3ba418ce49e",
   "metadata": {
    "ExecuteTime": {
     "end_time": "2025-07-24T09:40:26.114825Z",
     "start_time": "2025-07-24T09:40:26.101062Z"
    }
   },
   "source": [
    "import pandas as pd"
   ],
   "outputs": [],
   "execution_count": null
  },
  {
   "cell_type": "markdown",
   "id": "86ce443498ca0a12",
   "metadata": {},
   "source": "# Load raw data"
  },
  {
   "cell_type": "code",
   "id": "95e919de88c25b3b",
   "metadata": {
    "ExecuteTime": {
     "end_time": "2025-07-24T09:40:26.224255Z",
     "start_time": "2025-07-24T09:40:26.124698Z"
    }
   },
   "source": [
    "offshore_hubs = pd.read_excel(\n",
    "    \"../data/tyndp_2024_bundle/Offshore hubs/GENERATOR.xlsx\",\n",
    "    sheet_name=\"ZONE_POTENTIAL\",\n",
    ").replace(\"UK\", \"GB\", regex=True)"
   ],
   "outputs": [],
   "execution_count": null
  },
  {
   "cell_type": "code",
   "id": "8cbc562242c1ed4f",
   "metadata": {
    "ExecuteTime": {
     "end_time": "2025-07-24T09:40:26.328742Z",
     "start_time": "2025-07-24T09:40:26.236743Z"
    }
   },
   "source": [
    "investment_data_generators = pd.read_excel(\n",
    "    \"../data/tyndp_2024_bundle/Investment Datasets/GENERATOR.xlsx\"\n",
    ")\n",
    "investment_data_trajectories = pd.read_excel(\n",
    "    \"../data/tyndp_2024_bundle/Investment Datasets/TRAJECTORY.xlsx\"\n",
    ")"
   ],
   "outputs": [],
   "execution_count": null
  },
  {
   "cell_type": "markdown",
   "id": "c7d621dd49ebd185",
   "metadata": {},
   "source": [
    "# Load processed PECD data & compare"
   ]
  },
  {
   "cell_type": "markdown",
   "id": "5e5456d0a1947b3",
   "metadata": {},
   "source": [
    "<a id='wind-offshore'></a>\n",
    "## Wind Offshore"
   ]
  },
  {
   "cell_type": "markdown",
   "id": "0e9fec86",
   "metadata": {},
   "source": [
    "Load and investigate processed pecd data for Wind Offshore for 2030"
   ]
  },
  {
   "cell_type": "code",
   "id": "d1f880209ce3a46d",
   "metadata": {
    "ExecuteTime": {
     "end_time": "2025-07-24T09:40:26.342732Z",
     "start_time": "2025-07-24T09:40:26.337687Z"
    }
   },
   "source": [
    "pecd_offshore = pd.read_csv(\n",
    "    \"../resources/test-sector-tyndp/pecd_data_Wind_Offshore_2030.csv\", index_col=0\n",
    ")"
   ],
   "outputs": [],
   "execution_count": null
  },
  {
   "cell_type": "markdown",
   "id": "67c47bb8",
   "metadata": {},
   "source": [
    "Filter for columns with no data"
   ]
  },
  {
   "cell_type": "code",
   "id": "450247c8",
   "metadata": {
    "ExecuteTime": {
     "end_time": "2025-07-24T09:40:26.360131Z",
     "start_time": "2025-07-24T09:40:26.351652Z"
    }
   },
   "source": [
    "pecd_offshore.loc[:, (pecd_offshore == 0).all()]"
   ],
   "outputs": [],
   "execution_count": null
  },
  {
   "cell_type": "code",
   "id": "8d3a8b85",
   "metadata": {
    "ExecuteTime": {
     "end_time": "2025-07-24T09:40:26.388904Z",
     "start_time": "2025-07-24T09:40:26.385991Z"
    }
   },
   "source": [
    "pecd_not_available = set(pecd_offshore.loc[:, (pecd_offshore == 0).all()].columns)\n",
    "pecd_not_available"
   ],
   "outputs": [],
   "execution_count": null
  },
  {
   "cell_type": "markdown",
   "id": "4d50ced2",
   "metadata": {},
   "source": [
    "Compare with Offshore nodes that have no capacity potential"
   ]
  },
  {
   "cell_type": "code",
   "id": "0610400d",
   "metadata": {
    "ExecuteTime": {
     "end_time": "2025-07-24T09:40:26.420221Z",
     "start_time": "2025-07-24T09:40:26.415199Z"
    }
   },
   "source": [
    "tech_not_available = set(offshore_hubs.query(\"MAX_MW == 0\").OFFSHORE_NODE.unique())\n",
    "tech_not_available"
   ],
   "outputs": [],
   "execution_count": null
  },
  {
   "cell_type": "markdown",
   "id": "c3749668",
   "metadata": {},
   "source": [
    "Look at the difference"
   ]
  },
  {
   "cell_type": "code",
   "id": "7767c4cf",
   "metadata": {
    "ExecuteTime": {
     "end_time": "2025-07-24T09:40:26.460556Z",
     "start_time": "2025-07-24T09:40:26.457951Z"
    }
   },
   "source": [
    "difference = list(pecd_not_available.difference(tech_not_available))\n",
    "difference"
   ],
   "outputs": [],
   "execution_count": null
  },
  {
   "cell_type": "markdown",
   "id": "35b7fcb9",
   "metadata": {},
   "source": [
    "Verify that the nodes with missing data are indeed included with as a node and with a max potential > 0"
   ]
  },
  {
   "cell_type": "code",
   "id": "6a5f083b",
   "metadata": {
    "ExecuteTime": {
     "end_time": "2025-07-24T09:40:26.495159Z",
     "start_time": "2025-07-24T09:40:26.482738Z"
    }
   },
   "source": [
    "offshore_hubs.query(\"OFFSHORE_NODE in @difference\")"
   ],
   "outputs": [],
   "execution_count": null
  },
  {
   "cell_type": "markdown",
   "id": "9059480a",
   "metadata": {},
   "source": [
    "In fact the nodes `GROR002`, `MTOR001` and `HROH001` are included in the Offshore Hub data and have a max capacity > 0.\n",
    "\n",
    "⚠️ Therefore, some necessary PECD data is **missing** for `Wind Offshore`!"
   ]
  },
  {
   "cell_type": "markdown",
   "id": "93b9906ddb5f87c2",
   "metadata": {},
   "source": [
    "<a id='wind-onshore'></a>\n",
    "## Wind Onshore"
   ]
  },
  {
   "cell_type": "markdown",
   "id": "5e60de54",
   "metadata": {},
   "source": [
    "Load and investigate processed pecd data for Wind Onshore for 2030"
   ]
  },
  {
   "cell_type": "markdown",
   "id": "9d9dd04b",
   "metadata": {},
   "source": [
    "Look at the difference"
   ]
  },
  {
   "cell_type": "code",
   "id": "3149b7e6",
   "metadata": {
    "ExecuteTime": {
     "end_time": "2025-07-24T09:40:26.527640Z",
     "start_time": "2025-07-24T09:40:26.522662Z"
    }
   },
   "source": [
    "pecd_onshore = pd.read_csv(\n",
    "    \"../resources/test-sector-tyndp/pecd_data_Wind_Onshore_2030.csv\", index_col=0\n",
    ")"
   ],
   "outputs": [],
   "execution_count": null
  },
  {
   "cell_type": "markdown",
   "id": "1b9b2624",
   "metadata": {},
   "source": [
    "Filter for columns with no data"
   ]
  },
  {
   "cell_type": "code",
   "id": "4b4cc646",
   "metadata": {
    "ExecuteTime": {
     "end_time": "2025-07-24T09:40:26.558612Z",
     "start_time": "2025-07-24T09:40:26.551596Z"
    }
   },
   "source": [
    "pecd_onshore.loc[:, (pecd_onshore == 0).all()]"
   ],
   "outputs": [],
   "execution_count": null
  },
  {
   "cell_type": "code",
   "id": "3a9112f8",
   "metadata": {
    "ExecuteTime": {
     "end_time": "2025-07-24T09:40:26.603639Z",
     "start_time": "2025-07-24T09:40:26.600605Z"
    }
   },
   "source": [
    "pecd_not_available = set(pecd_onshore.loc[:, (pecd_onshore == 0).all()].columns)\n",
    "pecd_not_available"
   ],
   "outputs": [],
   "execution_count": null
  },
  {
   "cell_type": "markdown",
   "id": "e0a204c2",
   "metadata": {},
   "source": [
    "Compare with Offshore nodes that have no capacity potential"
   ]
  },
  {
   "cell_type": "code",
   "id": "89db92e7",
   "metadata": {
    "ExecuteTime": {
     "end_time": "2025-07-24T09:40:26.640566Z",
     "start_time": "2025-07-24T09:40:26.635595Z"
    }
   },
   "source": [
    "tech_not_available = set(\n",
    "    investment_data_trajectories.query(\n",
    "        \"TECHNOLOGY.str.contains('Wind Onshore') and `MAX CAPACITY [MW]` == 0\"\n",
    "    ).NODE.unique()\n",
    ")\n",
    "tech_not_available"
   ],
   "outputs": [],
   "execution_count": null
  },
  {
   "cell_type": "code",
   "id": "1e54a1a5",
   "metadata": {
    "ExecuteTime": {
     "end_time": "2025-07-24T09:40:26.667570Z",
     "start_time": "2025-07-24T09:40:26.664907Z"
    }
   },
   "source": [
    "difference = list(pecd_not_available.difference(tech_not_available))\n",
    "difference"
   ],
   "outputs": [],
   "execution_count": null
  },
  {
   "cell_type": "markdown",
   "id": "902fb244",
   "metadata": {},
   "source": [
    "Verify that the nodes with missing data are indeed included with as a node and with a max potential > 0"
   ]
  },
  {
   "cell_type": "code",
   "id": "8e0f3c0a",
   "metadata": {
    "ExecuteTime": {
     "end_time": "2025-07-24T09:40:26.693255Z",
     "start_time": "2025-07-24T09:40:26.688214Z"
    }
   },
   "source": [
    "investment_data_trajectories.query(\"NODE in @difference\")"
   ],
   "outputs": [],
   "execution_count": null
  },
  {
   "cell_type": "markdown",
   "id": "af5ad185ab905530",
   "metadata": {},
   "source": [
    "The missing nodes `ITCO` and `ITVI` are in fact not included in the investment data set. This is because they are virtual nodes used for modelling purposes in Italy.\n",
    "\n",
    "✅ Therefore, all necessary PECD data is **available** for `Wind Onshore`!"
   ]
  },
  {
   "cell_type": "markdown",
   "id": "30b33c59c28b4c4c",
   "metadata": {},
   "source": [
    "<a id='pv-rooftop'></a>\n",
    "## LF Solar PV Rooftop"
   ]
  },
  {
   "cell_type": "markdown",
   "id": "c6dc29ef",
   "metadata": {},
   "source": [
    "Load and investigate processed pecd data for Solar PV Rooftop for 2030"
   ]
  },
  {
   "cell_type": "markdown",
   "id": "73c40fa5",
   "metadata": {},
   "source": [
    "Look at the difference"
   ]
  },
  {
   "cell_type": "code",
   "id": "884abc41",
   "metadata": {
    "ExecuteTime": {
     "end_time": "2025-07-24T09:40:26.724915Z",
     "start_time": "2025-07-24T09:40:26.719758Z"
    }
   },
   "source": [
    "pecd_solar_rooftop = pd.read_csv(\n",
    "    \"../resources/test-sector-tyndp/pecd_data_LFSolarPVRooftop_2030.csv\", index_col=0\n",
    ")"
   ],
   "outputs": [],
   "execution_count": null
  },
  {
   "cell_type": "markdown",
   "id": "a0b85494",
   "metadata": {},
   "source": [
    "Filter for columns with no data"
   ]
  },
  {
   "cell_type": "code",
   "id": "d2498958",
   "metadata": {
    "ExecuteTime": {
     "end_time": "2025-07-24T09:40:26.758746Z",
     "start_time": "2025-07-24T09:40:26.751541Z"
    }
   },
   "source": [
    "pecd_solar_rooftop.loc[:, (pecd_solar_rooftop == 0).all()]"
   ],
   "outputs": [],
   "execution_count": null
  },
  {
   "cell_type": "code",
   "id": "424774cd",
   "metadata": {
    "ExecuteTime": {
     "end_time": "2025-07-24T09:40:26.791842Z",
     "start_time": "2025-07-24T09:40:26.788677Z"
    }
   },
   "source": [
    "pecd_not_available = set(\n",
    "    pecd_solar_rooftop.loc[:, (pecd_solar_rooftop == 0).all()].columns\n",
    ")\n",
    "pecd_not_available"
   ],
   "outputs": [],
   "execution_count": null
  },
  {
   "cell_type": "markdown",
   "id": "57de3260",
   "metadata": {},
   "source": [
    "Compare with Offshore nodes that have no capacity potential"
   ]
  },
  {
   "cell_type": "code",
   "id": "92e8070c",
   "metadata": {
    "ExecuteTime": {
     "end_time": "2025-07-24T09:40:26.818146Z",
     "start_time": "2025-07-24T09:40:26.813378Z"
    }
   },
   "source": [
    "tech_not_available = set(\n",
    "    investment_data_trajectories.query(\n",
    "        \"TECHNOLOGY.str.contains('Solar PV Rooftop') and `MAX CAPACITY [MW]` == 0\"\n",
    "    ).NODE.unique()\n",
    ")\n",
    "tech_not_available"
   ],
   "outputs": [],
   "execution_count": null
  },
  {
   "cell_type": "code",
   "id": "fb226b2b",
   "metadata": {
    "ExecuteTime": {
     "end_time": "2025-07-24T09:40:26.858363Z",
     "start_time": "2025-07-24T09:40:26.855881Z"
    }
   },
   "source": [
    "difference = list(pecd_not_available.difference(tech_not_available))\n",
    "difference"
   ],
   "outputs": [],
   "execution_count": null
  },
  {
   "cell_type": "markdown",
   "id": "eed61667",
   "metadata": {},
   "source": [
    "Verify that the nodes with missing data are indeed included with as a node and with a max potential > 0"
   ]
  },
  {
   "cell_type": "code",
   "id": "00c3d1d9",
   "metadata": {
    "ExecuteTime": {
     "end_time": "2025-07-24T09:40:26.877482Z",
     "start_time": "2025-07-24T09:40:26.872446Z"
    }
   },
   "source": [
    "investment_data_trajectories.query(\n",
    "    \"NODE in @difference and TECHNOLOGY == 'Solar PV Rooftop'\"\n",
    ")"
   ],
   "outputs": [],
   "execution_count": null
  },
  {
   "cell_type": "markdown",
   "id": "cedb0959",
   "metadata": {},
   "source": [
    "The missing nodes `ITCO` and `ITVI` are in fact not included in the investment data set. This is because they are virtual nodes used for modelling purposes in Italy.\n",
    "\n",
    "✅ Therefore, all necessary PECD data is **available** for `Solar PV Rooftop`!"
   ]
  },
  {
   "cell_type": "markdown",
   "id": "8e01f764f0aa06a3",
   "metadata": {},
   "source": [
    "<a id='pv-utility'></a>\n",
    "## LF Solar PV Utility"
   ]
  },
  {
   "cell_type": "markdown",
   "id": "1af6aad9",
   "metadata": {},
   "source": [
    "Load and investigate processed pecd data for Solar PV Utility for 2030"
   ]
  },
  {
   "cell_type": "markdown",
   "id": "733f8363",
   "metadata": {},
   "source": [
    "Look at the difference"
   ]
  },
  {
   "cell_type": "code",
   "id": "fd209c2b",
   "metadata": {
    "ExecuteTime": {
     "end_time": "2025-07-24T09:40:26.909172Z",
     "start_time": "2025-07-24T09:40:26.904991Z"
    }
   },
   "source": [
    "pecd_solar_utility = pd.read_csv(\n",
    "    \"../resources/test-sector-tyndp/pecd_data_LFSolarPVUtility_2030.csv\", index_col=0\n",
    ")"
   ],
   "outputs": [],
   "execution_count": null
  },
  {
   "cell_type": "markdown",
   "id": "1608532d",
   "metadata": {},
   "source": [
    "Filter for columns with no data"
   ]
  },
  {
   "cell_type": "code",
   "id": "aafed306",
   "metadata": {
    "ExecuteTime": {
     "end_time": "2025-07-24T09:40:26.927436Z",
     "start_time": "2025-07-24T09:40:26.921227Z"
    }
   },
   "source": [
    "pecd_solar_utility.loc[:, (pecd_solar_utility == 0).all()]"
   ],
   "outputs": [],
   "execution_count": null
  },
  {
   "cell_type": "code",
   "id": "3514ecc0",
   "metadata": {
    "ExecuteTime": {
     "end_time": "2025-07-24T09:40:26.961776Z",
     "start_time": "2025-07-24T09:40:26.958889Z"
    }
   },
   "source": [
    "pecd_not_available = set(\n",
    "    pecd_solar_utility.loc[:, (pecd_solar_utility == 0).all()].columns\n",
    ")\n",
    "pecd_not_available"
   ],
   "outputs": [],
   "execution_count": null
  },
  {
   "cell_type": "markdown",
   "id": "f12ba18c",
   "metadata": {},
   "source": [
    "Compare with Offshore nodes that have no capacity potential"
   ]
  },
  {
   "cell_type": "code",
   "id": "d7ea162c",
   "metadata": {
    "ExecuteTime": {
     "end_time": "2025-07-24T09:40:27.001301Z",
     "start_time": "2025-07-24T09:40:26.996434Z"
    }
   },
   "source": [
    "tech_not_available = set(\n",
    "    investment_data_trajectories.query(\n",
    "        \"TECHNOLOGY.str.contains('Solar PV Utility') and `MAX CAPACITY [MW]` == 0\"\n",
    "    ).NODE.unique()\n",
    ")\n",
    "tech_not_available"
   ],
   "outputs": [],
   "execution_count": null
  },
  {
   "cell_type": "code",
   "id": "491b16b5",
   "metadata": {
    "ExecuteTime": {
     "end_time": "2025-07-24T09:40:27.025682Z",
     "start_time": "2025-07-24T09:40:27.023293Z"
    }
   },
   "source": [
    "difference = list(pecd_not_available.difference(tech_not_available))\n",
    "difference"
   ],
   "outputs": [],
   "execution_count": null
  },
  {
   "cell_type": "markdown",
   "id": "1d136ab4",
   "metadata": {},
   "source": [
    "Verify that the nodes with missing data are indeed included with as a node and with a max potential > 0"
   ]
  },
  {
   "cell_type": "code",
   "id": "51b9ad4b",
   "metadata": {
    "ExecuteTime": {
     "end_time": "2025-07-24T09:40:27.048390Z",
     "start_time": "2025-07-24T09:40:27.042683Z"
    }
   },
   "source": [
    "investment_data_trajectories.query(\n",
    "    \"NODE in @difference and TECHNOLOGY == 'Solar PV Utility'\"\n",
    ")"
   ],
   "outputs": [],
   "execution_count": null
  },
  {
   "cell_type": "markdown",
   "id": "9890be4c",
   "metadata": {},
   "source": [
    "in fact, the missing nodes `AL00` and `SE01` are included in the investment data set and have a max capacity > 0.\n",
    "\n",
    "⚠️ Therefore, some necessary PECD data is **missing** for `Solar PV Utility`!"
   ]
  },
  {
   "cell_type": "markdown",
   "id": "f87a8edf7e1277d3",
   "metadata": {},
   "source": [
    "## Solar CSP"
   ]
  },
  {
   "cell_type": "markdown",
   "id": "20e253fb8875bb41",
   "metadata": {},
   "source": [
    "Check if solar CSP is indeed modelled in TYNDP as there is limited to no mention of Solar CSP in the methodology report and the Scenario results."
   ]
  },
  {
   "cell_type": "code",
   "id": "52e14eb1",
   "metadata": {
    "ExecuteTime": {
     "end_time": "2025-07-24T09:40:27.138356Z",
     "start_time": "2025-07-24T09:40:27.133387Z"
    }
   },
   "source": [
    "investment_data_trajectories.query(\"TECHNOLOGY.str.contains('CSP')\")"
   ],
   "outputs": [],
   "execution_count": null
  },
  {
   "cell_type": "code",
   "id": "fcf7a28b",
   "metadata": {
    "ExecuteTime": {
     "end_time": "2025-07-24T09:40:27.173921Z",
     "start_time": "2025-07-24T09:40:27.166849Z"
    }
   },
   "source": [
    "investment_data_generators.query(\"TECHNOLOGY.str.contains('CSP')\")"
   ],
   "outputs": [],
   "execution_count": null
  },
  {
   "cell_type": "markdown",
   "id": "0911b58c",
   "metadata": {},
   "source": [
    "Solar CSP has no specified trajectory or potential. It appears for all scenarios in the investment generator datasets, however with no CAPEX, OPEX or efficiency."
   ]
  }
 ],
 "metadata": {
  "kernelspec": {
   "display_name": "",
   "language": "python",
   "name": ""
  },
  "language_info": {
   "codemirror_mode": {
    "name": "ipython",
    "version": 3
   },
   "file_extension": ".py",
   "mimetype": "text/x-python",
   "name": "python",
   "nbconvert_exporter": "python",
   "pygments_lexer": "ipython3",
   "version": "3.12.10"
  }
 },
 "nbformat": 4,
 "nbformat_minor": 5
}
