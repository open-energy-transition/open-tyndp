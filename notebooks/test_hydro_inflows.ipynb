{
 "cells": [
  {
   "cell_type": "raw",
   "id": "df123b6373b514fe",
   "metadata": {},
   "source": [
    "SPDX-FileCopyrightText: Contributors to Open-TYNDP <https://github.com/open-energy-transition/open-tyndp>\n",
    "SPDX-License-Identifier: MIT"
   ]
  },
  {
   "cell_type": "markdown",
   "id": "cc2c92bb4e10ec61",
   "metadata": {},
   "source": [
    "# Imports"
   ]
  },
  {
   "cell_type": "code",
   "execution_count": 1,
   "id": "5aaee45774a1d992",
   "metadata": {
    "ExecuteTime": {
     "end_time": "2025-08-13T12:58:22.948310Z",
     "start_time": "2025-08-13T12:58:22.381506Z"
    }
   },
   "outputs": [],
   "source": [
    "import os\n",
    "\n",
    "import numpy as np\n",
    "import pandas as pd\n",
    "import xarray as xr"
   ]
  },
  {
   "cell_type": "markdown",
   "id": "1a4db91210339ef1",
   "metadata": {},
   "source": [
    "# Load data"
   ]
  },
  {
   "cell_type": "code",
   "execution_count": 2,
   "id": "9c3fab7254e0e7fc",
   "metadata": {
    "ExecuteTime": {
     "end_time": "2025-08-13T12:58:22.953576Z",
     "start_time": "2025-08-13T12:58:22.951777Z"
    }
   },
   "outputs": [],
   "source": [
    "fn = \"../resources/test-sector-tyndp/profile_hydro_tyndp.nc\""
   ]
  },
  {
   "cell_type": "code",
   "execution_count": 3,
   "id": "1f462771536b7405",
   "metadata": {
    "ExecuteTime": {
     "end_time": "2025-08-13T12:58:23.850803Z",
     "start_time": "2025-08-13T12:58:23.050053Z"
    }
   },
   "outputs": [],
   "source": [
    "ds = xr.open_dataset(fn)"
   ]
  },
  {
   "cell_type": "code",
   "execution_count": 4,
   "id": "484167a444ee8b2b",
   "metadata": {
    "ExecuteTime": {
     "end_time": "2025-08-13T12:58:23.859178Z",
     "start_time": "2025-08-13T12:58:23.857641Z"
    }
   },
   "outputs": [],
   "source": [
    "pemmdb_dir = (\n",
    "    \"../../../data/2024/20250313_ENTSO-E_ENTSOG_TYNDP_2024_Scenarios_Inputs/PEMMDB2/\"\n",
    ")"
   ]
  },
  {
   "cell_type": "code",
   "execution_count": 5,
   "id": "dcfce355",
   "metadata": {
    "ExecuteTime": {
     "end_time": "2025-08-13T12:58:23.867914Z",
     "start_time": "2025-08-13T12:58:23.864295Z"
    }
   },
   "outputs": [
    {
     "data": {
      "text/plain": [
       "array(['PS Closed', 'PS Open', 'Pondage', 'Reservoir', 'Run of River'],\n",
       "      dtype='<U12')"
      ]
     },
     "execution_count": 5,
     "metadata": {},
     "output_type": "execute_result"
    }
   ],
   "source": [
    "ds.hydro_tech.values"
   ]
  },
  {
   "cell_type": "code",
   "execution_count": 6,
   "id": "7bd43dd0",
   "metadata": {
    "ExecuteTime": {
     "end_time": "2025-08-13T12:58:23.880301Z",
     "start_time": "2025-08-13T12:58:23.877336Z"
    }
   },
   "outputs": [],
   "source": [
    "def load_capacities(year, ds):\n",
    "    capacities = {}\n",
    "    missing = []\n",
    "    for bus in np.char.replace(ds.bus.values, \"GB\", \"UK\"):\n",
    "        path = pemmdb_dir + f\"{year}/PEMMDB_{bus}_NationalTrends_{year}.xlsx\"\n",
    "        if os.path.exists(path):\n",
    "            capacities[bus] = pd.read_excel(\n",
    "                path,\n",
    "                sheet_name=\"Hydro\",\n",
    "                skiprows=1,\n",
    "                index_col=0,\n",
    "            ).T.set_index(\"Market Node:\")\n",
    "        else:\n",
    "            missing.append(bus)\n",
    "    print(f\"No PEMMDB data for nodes {missing} in {year}.\")\n",
    "\n",
    "    capacities = pd.concat(capacities)[\n",
    "        [\n",
    "            \"Run of River - Total turbining capacity (MW)\",\n",
    "            \"Pondage - Total turbining capacity (MW)\",\n",
    "            \"Reservoir - Total turbining capacity (MW)\",\n",
    "            \"Pump Storage (open loop, with natural inflows) - Total turbining capacity (MW)\",\n",
    "            \"Pure Pump Storage (closed loop, no natural inflows) - Total turbining capacity (MW)\",\n",
    "        ]\n",
    "    ].droplevel(1, \"index\")\n",
    "\n",
    "    return capacities, missing"
   ]
  },
  {
   "cell_type": "code",
   "execution_count": 7,
   "id": "fe7fe686",
   "metadata": {
    "ExecuteTime": {
     "end_time": "2025-08-13T12:58:23.888475Z",
     "start_time": "2025-08-13T12:58:23.885870Z"
    }
   },
   "outputs": [],
   "source": [
    "def check_consistency(year, tech, cap, missing):\n",
    "    print(f\"**{tech}** \\n ============\")\n",
    "\n",
    "    tech_ = tech\n",
    "    if tech == \"PS Closed\":\n",
    "        tech_ = \"closed loop\"\n",
    "    elif tech == \"PS Open\":\n",
    "        tech_ = \"open loop\"\n",
    "\n",
    "    profile = ds[\"profile\"].sel(year=year, hydro_tech=tech).to_pandas().T\n",
    "    total_nodes = profile.columns\n",
    "    missing_profiles = profile.loc[:, (profile == 0).all(axis=0)].columns.str.replace(\n",
    "        \"GB\", \"UK\", regex=True\n",
    "    )\n",
    "    print(\n",
    "        f\"Zero-profiles for {len(missing_profiles)} out of {len(total_nodes)} nodes: \\n {missing_profiles.values}. \\n\"\n",
    "    )\n",
    "\n",
    "    tech_cap = cap.filter(like=tech_, axis=\"columns\")\n",
    "    no_cap = tech_cap.loc[tech_cap.values == 0].index\n",
    "    no_cap = no_cap.to_list() + missing\n",
    "    print(\n",
    "        f\"No capacities for {len(no_cap)} out of {len(total_nodes)} nodes: \\n {no_cap}. \\n\"\n",
    "    )\n",
    "\n",
    "    difference = set(missing_profiles).difference(no_cap).difference(missing)\n",
    "    print(\n",
    "        f\"{len(difference)} out of {len(total_nodes)} nodes have zero-profiles while having specified turbine capacities: \\n {difference} \\n\"\n",
    "    )"
   ]
  },
  {
   "cell_type": "markdown",
   "id": "7d5291ab",
   "metadata": {},
   "source": [
    "Hydro inflows are only needed for Run of River, Pondage and Reservoir plants."
   ]
  },
  {
   "cell_type": "code",
   "execution_count": 8,
   "id": "39936422",
   "metadata": {
    "ExecuteTime": {
     "end_time": "2025-08-13T12:58:23.894643Z",
     "start_time": "2025-08-13T12:58:23.893223Z"
    }
   },
   "outputs": [],
   "source": [
    "techs = [\n",
    "    \"Run of River\",\n",
    "    \"Pondage\",\n",
    "    \"Reservoir\",\n",
    "]"
   ]
  },
  {
   "cell_type": "markdown",
   "id": "329589ec",
   "metadata": {},
   "source": [
    "There are by definition no hydro inflows for closed-loop pumped hydro storage plants. \n",
    "\n",
    "However, there are can be inflows for open loop pumped hydro which is provided within PEMMDB, thus both will be checked for completeness."
   ]
  },
  {
   "cell_type": "code",
   "execution_count": 9,
   "id": "cce03420",
   "metadata": {
    "ExecuteTime": {
     "end_time": "2025-08-13T12:58:23.904932Z",
     "start_time": "2025-08-13T12:58:23.903414Z"
    }
   },
   "outputs": [],
   "source": [
    "phs = [\n",
    "    \"PS Closed\",\n",
    "    \"PS Open\",\n",
    "]"
   ]
  },
  {
   "cell_type": "markdown",
   "id": "26ac7266",
   "metadata": {},
   "source": [
    "# Check data"
   ]
  },
  {
   "cell_type": "markdown",
   "id": "5a3cab63",
   "metadata": {},
   "source": [
    "During pre-processing missing data (empty fields) are filled with zero values. Thus we will filter for zero-profiles to identify missing hydro inflow profiles. Afterwards we will manually check whether the raw input files reveal in fact missing data or 0.0 values."
   ]
  },
  {
   "cell_type": "markdown",
   "id": "ddc4e34997355288",
   "metadata": {},
   "source": [
    "## 2030"
   ]
  },
  {
   "cell_type": "code",
   "execution_count": 10,
   "id": "dc1ce6b7f792b14e",
   "metadata": {
    "ExecuteTime": {
     "end_time": "2025-08-13T12:58:23.908594Z",
     "start_time": "2025-08-13T12:58:23.906987Z"
    }
   },
   "outputs": [],
   "source": [
    "year = 2030"
   ]
  },
  {
   "cell_type": "code",
   "execution_count": 11,
   "id": "3bd63d016a9d0c5b",
   "metadata": {
    "ExecuteTime": {
     "end_time": "2025-08-13T12:58:24.927312Z",
     "start_time": "2025-08-13T12:58:23.913823Z"
    }
   },
   "outputs": [
    {
     "name": "stdout",
     "output_type": "stream",
     "text": [
      "No PEMMDB data for nodes ['ITCO', 'ITVI'] in 2030.\n"
     ]
    }
   ],
   "source": [
    "cap_2030, missing = load_capacities(year, ds)"
   ]
  },
  {
   "cell_type": "code",
   "execution_count": 12,
   "id": "999a7d76b398de07",
   "metadata": {
    "ExecuteTime": {
     "end_time": "2025-08-13T12:58:24.941285Z",
     "start_time": "2025-08-13T12:58:24.934851Z"
    }
   },
   "outputs": [
    {
     "name": "stdout",
     "output_type": "stream",
     "text": [
      "**Run of River** \n",
      " ============\n",
      "Zero-profiles for 19 out of 54 nodes: \n",
      " ['CY00' 'DKE1' 'DKW1' 'EE00' 'FI00' 'UKNI' 'GR03' 'ITCO' 'ITS1' 'ITVI'\n",
      " 'LUB1' 'LUF1' 'LUV1' 'LV00' 'MT00' 'SE01' 'SE02' 'SE03' 'SE04']. \n",
      "\n",
      "No capacities for 18 out of 54 nodes: \n",
      " ['CY00', 'DKE1', 'DKW1', 'EE00', 'FI00', 'UKNI', 'GR03', 'LUB1', 'LUF1', 'LUV1', 'LV00', 'MT00', 'SE01', 'SE02', 'SE03', 'SE04', 'ITCO', 'ITVI']. \n",
      "\n",
      "1 out of 54 nodes have zero-profiles while having specified turbine capacities: \n",
      " {'ITS1'} \n",
      "\n",
      "**Pondage** \n",
      " ============\n",
      "Zero-profiles for 46 out of 54 nodes: \n",
      " ['AL00' 'BE00' 'BG00' 'CH00' 'CY00' 'CZ00' 'DE00' 'DKE1' 'DKW1' 'EE00'\n",
      " 'ES00' 'FI00' 'FR00' 'UK00' 'UKNI' 'GR03' 'HU00' 'IE00' 'ITCA' 'ITCN'\n",
      " 'ITCO' 'ITCS' 'ITN1' 'ITS1' 'ITSA' 'ITSI' 'ITVI' 'LT00' 'LUB1' 'LUF1'\n",
      " 'LUG1' 'LUV1' 'ME00' 'MK00' 'MT00' 'NL00' 'NOM1' 'NON1' 'NOS0' 'PL00'\n",
      " 'RO00' 'RS00' 'SE01' 'SE02' 'SE03' 'SE04']. \n",
      "\n",
      "No capacities for 46 out of 54 nodes: \n",
      " ['AL00', 'BE00', 'BG00', 'CH00', 'CY00', 'CZ00', 'DE00', 'DKE1', 'DKW1', 'EE00', 'ES00', 'FI00', 'FR00', 'UK00', 'UKNI', 'GR03', 'HU00', 'IE00', 'ITCA', 'ITCN', 'ITCS', 'ITN1', 'ITS1', 'ITSA', 'ITSI', 'LT00', 'LUB1', 'LUF1', 'LUG1', 'LUV1', 'ME00', 'MK00', 'MT00', 'NL00', 'NOM1', 'NON1', 'NOS0', 'PL00', 'RO00', 'RS00', 'SE01', 'SE02', 'SE03', 'SE04', 'ITCO', 'ITVI']. \n",
      "\n",
      "0 out of 54 nodes have zero-profiles while having specified turbine capacities: \n",
      " set() \n",
      "\n",
      "**Reservoir** \n",
      " ============\n",
      "Zero-profiles for 21 out of 54 nodes: \n",
      " ['BE00' 'CY00' 'DKE1' 'DKW1' 'EE00' 'UK00' 'UKNI' 'GR03' 'HU00' 'IE00'\n",
      " 'ITCO' 'ITVI' 'LT00' 'LUB1' 'LUF1' 'LUG1' 'LUV1' 'LV00' 'MT00' 'NL00'\n",
      " 'SI00']. \n",
      "\n",
      "No capacities for 20 out of 54 nodes: \n",
      " ['BE00', 'CY00', 'DKE1', 'DKW1', 'EE00', 'UK00', 'UKNI', 'GR03', 'HU00', 'IE00', 'LT00', 'LUB1', 'LUF1', 'LUG1', 'LUV1', 'LV00', 'MT00', 'NL00', 'ITCO', 'ITVI']. \n",
      "\n",
      "1 out of 54 nodes have zero-profiles while having specified turbine capacities: \n",
      " {'SI00'} \n",
      "\n"
     ]
    }
   ],
   "source": [
    "for tech in techs:\n",
    "    check_consistency(year, tech, cap_2030, missing)"
   ]
  },
  {
   "cell_type": "markdown",
   "id": "d529e06d",
   "metadata": {},
   "source": [
    "Checking PHS for completeness:"
   ]
  },
  {
   "cell_type": "code",
   "execution_count": 13,
   "id": "ee5a7c3b",
   "metadata": {
    "ExecuteTime": {
     "end_time": "2025-08-13T12:58:24.953655Z",
     "start_time": "2025-08-13T12:58:24.948558Z"
    }
   },
   "outputs": [
    {
     "name": "stdout",
     "output_type": "stream",
     "text": [
      "**PS Closed** \n",
      " ============\n",
      "Zero-profiles for 54 out of 54 nodes: \n",
      " ['AL00' 'AT00' 'BA00' 'BE00' 'BG00' 'CH00' 'CY00' 'CZ00' 'DE00' 'DKE1'\n",
      " 'DKW1' 'EE00' 'ES00' 'FI00' 'FR00' 'UK00' 'UKNI' 'GR00' 'GR03' 'HR00'\n",
      " 'HU00' 'IE00' 'ITCA' 'ITCN' 'ITCO' 'ITCS' 'ITN1' 'ITS1' 'ITSA' 'ITSI'\n",
      " 'ITVI' 'LT00' 'LUB1' 'LUF1' 'LUG1' 'LUV1' 'LV00' 'ME00' 'MK00' 'MT00'\n",
      " 'NL00' 'NOM1' 'NON1' 'NOS0' 'PL00' 'PT00' 'RO00' 'RS00' 'SE01' 'SE02'\n",
      " 'SE03' 'SE04' 'SI00' 'SK00']. \n",
      "\n",
      "No capacities for 33 out of 54 nodes: \n",
      " ['AL00', 'BA00', 'CY00', 'DKE1', 'DKW1', 'EE00', 'FI00', 'UKNI', 'GR03', 'HR00', 'HU00', 'ITCA', 'ITCN', 'ITS1', 'LUB1', 'LUF1', 'LUG1', 'LV00', 'ME00', 'MK00', 'MT00', 'NL00', 'NOM1', 'NON1', 'NOS0', 'PT00', 'RO00', 'SE01', 'SE02', 'SE03', 'SE04', 'ITCO', 'ITVI']. \n",
      "\n",
      "21 out of 54 nodes have zero-profiles while having specified turbine capacities: \n",
      " {'LT00', 'SI00', 'BE00', 'SK00', 'ES00', 'IE00', 'FR00', 'AT00', 'CH00', 'LUV1', 'ITN1', 'ITSA', 'PL00', 'BG00', 'ITSI', 'CZ00', 'UK00', 'GR00', 'ITCS', 'DE00', 'RS00'} \n",
      "\n",
      "**PS Open** \n",
      " ============\n",
      "Zero-profiles for 36 out of 54 nodes: \n",
      " ['AL00' 'BE00' 'CY00' 'DKE1' 'DKW1' 'EE00' 'FI00' 'FR00' 'UK00' 'UKNI'\n",
      " 'GR03' 'HU00' 'IE00' 'ITCA' 'ITCN' 'ITCO' 'ITS1' 'ITSA' 'ITVI' 'LT00'\n",
      " 'LUB1' 'LUF1' 'LUG1' 'LUV1' 'LV00' 'ME00' 'MK00' 'MT00' 'NL00' 'NON1'\n",
      " 'RS00' 'SE01' 'SE02' 'SE03' 'SE04' 'SI00']. \n",
      "\n",
      "No capacities for 34 out of 54 nodes: \n",
      " ['AL00', 'BE00', 'CY00', 'DKE1', 'DKW1', 'EE00', 'FI00', 'UK00', 'UKNI', 'GR03', 'HU00', 'IE00', 'ITCA', 'ITCN', 'ITS1', 'ITSA', 'LT00', 'LUB1', 'LUF1', 'LUG1', 'LUV1', 'LV00', 'ME00', 'MK00', 'MT00', 'NL00', 'RS00', 'SE01', 'SE02', 'SE03', 'SE04', 'SI00', 'ITCO', 'ITVI']. \n",
      "\n",
      "2 out of 54 nodes have zero-profiles while having specified turbine capacities: \n",
      " {'NON1', 'FR00'} \n",
      "\n"
     ]
    }
   ],
   "source": [
    "for tech in phs:\n",
    "    check_consistency(year, tech, cap_2030, missing)"
   ]
  },
  {
   "cell_type": "markdown",
   "id": "a8a6e06c",
   "metadata": {},
   "source": [
    "As expected for `closed loop PHS`, no inflows are available.\n",
    "\n",
    "Manually checking the raw data for the missing inflow data for `open loop PHS`, `Run of River` and `Reservoir` yields that the data is in fact not actually missing (empty fields) but filled with 0.0 values.\n",
    "\n",
    "✅ Thus, no missing data is found for 2030."
   ]
  },
  {
   "cell_type": "markdown",
   "id": "d7be7102",
   "metadata": {},
   "source": [
    "## 2040"
   ]
  },
  {
   "cell_type": "code",
   "execution_count": 14,
   "id": "df7e7370",
   "metadata": {
    "ExecuteTime": {
     "end_time": "2025-08-13T12:58:24.963386Z",
     "start_time": "2025-08-13T12:58:24.961561Z"
    }
   },
   "outputs": [],
   "source": [
    "year = 2040"
   ]
  },
  {
   "cell_type": "code",
   "execution_count": 15,
   "id": "2a8510c0",
   "metadata": {
    "ExecuteTime": {
     "end_time": "2025-08-13T12:58:25.913958Z",
     "start_time": "2025-08-13T12:58:24.970291Z"
    }
   },
   "outputs": [
    {
     "name": "stdout",
     "output_type": "stream",
     "text": [
      "No PEMMDB data for nodes ['ITCO', 'ITVI'] in 2040.\n"
     ]
    }
   ],
   "source": [
    "cap_2040, missing = load_capacities(year, ds)"
   ]
  },
  {
   "cell_type": "code",
   "execution_count": 16,
   "id": "a488bc69",
   "metadata": {
    "ExecuteTime": {
     "end_time": "2025-08-13T12:58:25.928030Z",
     "start_time": "2025-08-13T12:58:25.921877Z"
    }
   },
   "outputs": [
    {
     "name": "stdout",
     "output_type": "stream",
     "text": [
      "**Run of River** \n",
      " ============\n",
      "Zero-profiles for 19 out of 54 nodes: \n",
      " ['CY00' 'DKE1' 'DKW1' 'EE00' 'FI00' 'UKNI' 'GR03' 'ITCO' 'ITS1' 'ITVI'\n",
      " 'LUB1' 'LUF1' 'LUV1' 'LV00' 'MT00' 'SE01' 'SE02' 'SE03' 'SE04']. \n",
      "\n",
      "No capacities for 18 out of 54 nodes: \n",
      " ['CY00', 'DKE1', 'DKW1', 'EE00', 'FI00', 'UKNI', 'GR03', 'LUB1', 'LUF1', 'LUV1', 'LV00', 'MT00', 'SE01', 'SE02', 'SE03', 'SE04', 'ITCO', 'ITVI']. \n",
      "\n",
      "1 out of 54 nodes have zero-profiles while having specified turbine capacities: \n",
      " {'ITS1'} \n",
      "\n",
      "**Pondage** \n",
      " ============\n",
      "Zero-profiles for 46 out of 54 nodes: \n",
      " ['AL00' 'BE00' 'BG00' 'CH00' 'CY00' 'CZ00' 'DE00' 'DKE1' 'DKW1' 'EE00'\n",
      " 'ES00' 'FI00' 'FR00' 'UK00' 'UKNI' 'GR03' 'HU00' 'IE00' 'ITCA' 'ITCN'\n",
      " 'ITCO' 'ITCS' 'ITN1' 'ITS1' 'ITSA' 'ITSI' 'ITVI' 'LT00' 'LUB1' 'LUF1'\n",
      " 'LUG1' 'LUV1' 'ME00' 'MK00' 'MT00' 'NL00' 'NOM1' 'NON1' 'NOS0' 'PL00'\n",
      " 'RO00' 'RS00' 'SE01' 'SE02' 'SE03' 'SE04']. \n",
      "\n",
      "No capacities for 46 out of 54 nodes: \n",
      " ['AL00', 'BE00', 'BG00', 'CH00', 'CY00', 'CZ00', 'DE00', 'DKE1', 'DKW1', 'EE00', 'ES00', 'FI00', 'FR00', 'UK00', 'UKNI', 'GR03', 'HU00', 'IE00', 'ITCA', 'ITCN', 'ITCS', 'ITN1', 'ITS1', 'ITSA', 'ITSI', 'LT00', 'LUB1', 'LUF1', 'LUG1', 'LUV1', 'ME00', 'MK00', 'MT00', 'NL00', 'NOM1', 'NON1', 'NOS0', 'PL00', 'RO00', 'RS00', 'SE01', 'SE02', 'SE03', 'SE04', 'ITCO', 'ITVI']. \n",
      "\n",
      "0 out of 54 nodes have zero-profiles while having specified turbine capacities: \n",
      " set() \n",
      "\n",
      "**Reservoir** \n",
      " ============\n",
      "Zero-profiles for 21 out of 54 nodes: \n",
      " ['BE00' 'CY00' 'DKE1' 'DKW1' 'EE00' 'UK00' 'UKNI' 'GR03' 'HU00' 'IE00'\n",
      " 'ITCO' 'ITVI' 'LT00' 'LUB1' 'LUF1' 'LUG1' 'LUV1' 'LV00' 'MT00' 'NL00'\n",
      " 'SI00']. \n",
      "\n",
      "No capacities for 20 out of 54 nodes: \n",
      " ['BE00', 'CY00', 'DKE1', 'DKW1', 'EE00', 'UK00', 'UKNI', 'GR03', 'HU00', 'IE00', 'LT00', 'LUB1', 'LUF1', 'LUG1', 'LUV1', 'LV00', 'MT00', 'NL00', 'ITCO', 'ITVI']. \n",
      "\n",
      "1 out of 54 nodes have zero-profiles while having specified turbine capacities: \n",
      " {'SI00'} \n",
      "\n"
     ]
    }
   ],
   "source": [
    "for tech in techs:\n",
    "    check_consistency(year, tech, cap_2040, missing)"
   ]
  },
  {
   "cell_type": "markdown",
   "id": "b6dbaadb",
   "metadata": {},
   "source": [
    "Checking PHS for completeness:"
   ]
  },
  {
   "cell_type": "code",
   "execution_count": 17,
   "id": "33e5b04c",
   "metadata": {
    "ExecuteTime": {
     "end_time": "2025-08-13T12:58:25.940402Z",
     "start_time": "2025-08-13T12:58:25.935264Z"
    }
   },
   "outputs": [
    {
     "name": "stdout",
     "output_type": "stream",
     "text": [
      "**PS Closed** \n",
      " ============\n",
      "Zero-profiles for 54 out of 54 nodes: \n",
      " ['AL00' 'AT00' 'BA00' 'BE00' 'BG00' 'CH00' 'CY00' 'CZ00' 'DE00' 'DKE1'\n",
      " 'DKW1' 'EE00' 'ES00' 'FI00' 'FR00' 'UK00' 'UKNI' 'GR00' 'GR03' 'HR00'\n",
      " 'HU00' 'IE00' 'ITCA' 'ITCN' 'ITCO' 'ITCS' 'ITN1' 'ITS1' 'ITSA' 'ITSI'\n",
      " 'ITVI' 'LT00' 'LUB1' 'LUF1' 'LUG1' 'LUV1' 'LV00' 'ME00' 'MK00' 'MT00'\n",
      " 'NL00' 'NOM1' 'NON1' 'NOS0' 'PL00' 'PT00' 'RO00' 'RS00' 'SE01' 'SE02'\n",
      " 'SE03' 'SE04' 'SI00' 'SK00']. \n",
      "\n",
      "No capacities for 33 out of 54 nodes: \n",
      " ['AL00', 'BA00', 'CY00', 'DKE1', 'DKW1', 'EE00', 'FI00', 'UKNI', 'GR03', 'HR00', 'HU00', 'ITCA', 'ITCN', 'ITS1', 'LUB1', 'LUF1', 'LUG1', 'LV00', 'ME00', 'MK00', 'MT00', 'NL00', 'NOM1', 'NON1', 'NOS0', 'PT00', 'RO00', 'SE01', 'SE02', 'SE03', 'SE04', 'ITCO', 'ITVI']. \n",
      "\n",
      "21 out of 54 nodes have zero-profiles while having specified turbine capacities: \n",
      " {'LT00', 'SI00', 'BE00', 'SK00', 'ES00', 'IE00', 'FR00', 'AT00', 'CH00', 'LUV1', 'ITN1', 'ITSA', 'PL00', 'BG00', 'ITSI', 'CZ00', 'UK00', 'GR00', 'ITCS', 'DE00', 'RS00'} \n",
      "\n",
      "**PS Open** \n",
      " ============\n",
      "Zero-profiles for 36 out of 54 nodes: \n",
      " ['AL00' 'BE00' 'CY00' 'DKE1' 'DKW1' 'EE00' 'FI00' 'FR00' 'UK00' 'UKNI'\n",
      " 'GR03' 'HU00' 'IE00' 'ITCA' 'ITCN' 'ITCO' 'ITS1' 'ITSA' 'ITVI' 'LT00'\n",
      " 'LUB1' 'LUF1' 'LUG1' 'LUV1' 'LV00' 'ME00' 'MK00' 'MT00' 'NL00' 'NON1'\n",
      " 'RS00' 'SE01' 'SE02' 'SE03' 'SE04' 'SI00']. \n",
      "\n",
      "No capacities for 33 out of 54 nodes: \n",
      " ['AL00', 'BE00', 'CY00', 'DKE1', 'DKW1', 'EE00', 'FI00', 'UK00', 'UKNI', 'GR03', 'HU00', 'IE00', 'ITCA', 'ITCN', 'ITS1', 'ITSA', 'LT00', 'LUB1', 'LUF1', 'LUG1', 'LUV1', 'LV00', 'ME00', 'MT00', 'NL00', 'RS00', 'SE01', 'SE02', 'SE03', 'SE04', 'SI00', 'ITCO', 'ITVI']. \n",
      "\n",
      "3 out of 54 nodes have zero-profiles while having specified turbine capacities: \n",
      " {'NON1', 'FR00', 'MK00'} \n",
      "\n"
     ]
    }
   ],
   "source": [
    "for tech in phs:\n",
    "    check_consistency(year, tech, cap_2040, missing)"
   ]
  },
  {
   "cell_type": "markdown",
   "id": "284786c6",
   "metadata": {},
   "source": [
    "As expected for `closed loop PHS`, no inflows are available.\n",
    "\n",
    "Manually checking the raw data for the missing inflow data for `open loop PHS`, `Run of River` and `Reservoir` yields that the data is in fact not actually missing (empty fields) but filled with 0.0 values.\n",
    "\n",
    "✅ Thus, no missing data is found for 2040."
   ]
  },
  {
   "cell_type": "markdown",
   "id": "37bba964",
   "metadata": {},
   "source": [
    "## 2050"
   ]
  },
  {
   "cell_type": "code",
   "execution_count": 18,
   "id": "bf189cec",
   "metadata": {
    "ExecuteTime": {
     "end_time": "2025-08-13T12:58:25.949398Z",
     "start_time": "2025-08-13T12:58:25.947337Z"
    }
   },
   "outputs": [],
   "source": [
    "year = 2050"
   ]
  },
  {
   "cell_type": "code",
   "execution_count": 19,
   "id": "2934c850",
   "metadata": {
    "ExecuteTime": {
     "end_time": "2025-08-13T12:58:26.911556Z",
     "start_time": "2025-08-13T12:58:25.955868Z"
    }
   },
   "outputs": [
    {
     "name": "stdout",
     "output_type": "stream",
     "text": [
      "No PEMMDB data for nodes ['ITCO', 'ITVI'] in 2050.\n"
     ]
    }
   ],
   "source": [
    "cap_2050, missing = load_capacities(year, ds)"
   ]
  },
  {
   "cell_type": "code",
   "execution_count": 20,
   "id": "8d13022e",
   "metadata": {
    "ExecuteTime": {
     "end_time": "2025-08-13T12:58:26.924990Z",
     "start_time": "2025-08-13T12:58:26.918973Z"
    }
   },
   "outputs": [
    {
     "name": "stdout",
     "output_type": "stream",
     "text": [
      "**Run of River** \n",
      " ============\n",
      "Zero-profiles for 19 out of 54 nodes: \n",
      " ['CY00' 'DKE1' 'DKW1' 'EE00' 'FI00' 'UKNI' 'GR03' 'ITCO' 'ITS1' 'ITVI'\n",
      " 'LUB1' 'LUF1' 'LUV1' 'LV00' 'MT00' 'SE01' 'SE02' 'SE03' 'SE04']. \n",
      "\n",
      "No capacities for 18 out of 54 nodes: \n",
      " ['CY00', 'DKE1', 'DKW1', 'EE00', 'FI00', 'UKNI', 'GR03', 'LUB1', 'LUF1', 'LUV1', 'LV00', 'MT00', 'SE01', 'SE02', 'SE03', 'SE04', 'ITCO', 'ITVI']. \n",
      "\n",
      "1 out of 54 nodes have zero-profiles while having specified turbine capacities: \n",
      " {'ITS1'} \n",
      "\n",
      "**Pondage** \n",
      " ============\n",
      "Zero-profiles for 46 out of 54 nodes: \n",
      " ['AL00' 'BE00' 'BG00' 'CH00' 'CY00' 'CZ00' 'DE00' 'DKE1' 'DKW1' 'EE00'\n",
      " 'ES00' 'FI00' 'FR00' 'UK00' 'UKNI' 'GR03' 'HU00' 'IE00' 'ITCA' 'ITCN'\n",
      " 'ITCO' 'ITCS' 'ITN1' 'ITS1' 'ITSA' 'ITSI' 'ITVI' 'LT00' 'LUB1' 'LUF1'\n",
      " 'LUG1' 'LUV1' 'ME00' 'MK00' 'MT00' 'NL00' 'NOM1' 'NON1' 'NOS0' 'PL00'\n",
      " 'RO00' 'RS00' 'SE01' 'SE02' 'SE03' 'SE04']. \n",
      "\n",
      "No capacities for 46 out of 54 nodes: \n",
      " ['AL00', 'BE00', 'BG00', 'CH00', 'CY00', 'CZ00', 'DE00', 'DKE1', 'DKW1', 'EE00', 'ES00', 'FI00', 'FR00', 'UK00', 'UKNI', 'GR03', 'HU00', 'IE00', 'ITCA', 'ITCN', 'ITCS', 'ITN1', 'ITS1', 'ITSA', 'ITSI', 'LT00', 'LUB1', 'LUF1', 'LUG1', 'LUV1', 'ME00', 'MK00', 'MT00', 'NL00', 'NOM1', 'NON1', 'NOS0', 'PL00', 'RO00', 'RS00', 'SE01', 'SE02', 'SE03', 'SE04', 'ITCO', 'ITVI']. \n",
      "\n",
      "0 out of 54 nodes have zero-profiles while having specified turbine capacities: \n",
      " set() \n",
      "\n",
      "**Reservoir** \n",
      " ============\n",
      "Zero-profiles for 21 out of 54 nodes: \n",
      " ['BE00' 'CY00' 'DKE1' 'DKW1' 'EE00' 'UK00' 'UKNI' 'GR03' 'HU00' 'IE00'\n",
      " 'ITCO' 'ITVI' 'LT00' 'LUB1' 'LUF1' 'LUG1' 'LUV1' 'LV00' 'MT00' 'NL00'\n",
      " 'SI00']. \n",
      "\n",
      "No capacities for 20 out of 54 nodes: \n",
      " ['BE00', 'CY00', 'DKE1', 'DKW1', 'EE00', 'UK00', 'UKNI', 'GR03', 'HU00', 'IE00', 'LT00', 'LUB1', 'LUF1', 'LUG1', 'LUV1', 'LV00', 'MT00', 'NL00', 'ITCO', 'ITVI']. \n",
      "\n",
      "1 out of 54 nodes have zero-profiles while having specified turbine capacities: \n",
      " {'SI00'} \n",
      "\n"
     ]
    }
   ],
   "source": [
    "for tech in techs:\n",
    "    check_consistency(year, tech, cap_2050, missing)"
   ]
  },
  {
   "cell_type": "markdown",
   "id": "5217dea4",
   "metadata": {},
   "source": [
    "Checking PHS for completeness:"
   ]
  },
  {
   "cell_type": "code",
   "execution_count": 21,
   "id": "a9030bb9",
   "metadata": {
    "ExecuteTime": {
     "end_time": "2025-08-13T12:58:26.937468Z",
     "start_time": "2025-08-13T12:58:26.932663Z"
    }
   },
   "outputs": [
    {
     "name": "stdout",
     "output_type": "stream",
     "text": [
      "**PS Closed** \n",
      " ============\n",
      "Zero-profiles for 54 out of 54 nodes: \n",
      " ['AL00' 'AT00' 'BA00' 'BE00' 'BG00' 'CH00' 'CY00' 'CZ00' 'DE00' 'DKE1'\n",
      " 'DKW1' 'EE00' 'ES00' 'FI00' 'FR00' 'UK00' 'UKNI' 'GR00' 'GR03' 'HR00'\n",
      " 'HU00' 'IE00' 'ITCA' 'ITCN' 'ITCO' 'ITCS' 'ITN1' 'ITS1' 'ITSA' 'ITSI'\n",
      " 'ITVI' 'LT00' 'LUB1' 'LUF1' 'LUG1' 'LUV1' 'LV00' 'ME00' 'MK00' 'MT00'\n",
      " 'NL00' 'NOM1' 'NON1' 'NOS0' 'PL00' 'PT00' 'RO00' 'RS00' 'SE01' 'SE02'\n",
      " 'SE03' 'SE04' 'SI00' 'SK00']. \n",
      "\n",
      "No capacities for 33 out of 54 nodes: \n",
      " ['AL00', 'BA00', 'CY00', 'DKE1', 'DKW1', 'EE00', 'FI00', 'UKNI', 'GR03', 'HR00', 'HU00', 'ITCA', 'ITCN', 'ITS1', 'LUB1', 'LUF1', 'LUG1', 'LV00', 'ME00', 'MK00', 'MT00', 'NL00', 'NOM1', 'NON1', 'NOS0', 'PT00', 'RO00', 'SE01', 'SE02', 'SE03', 'SE04', 'ITCO', 'ITVI']. \n",
      "\n",
      "21 out of 54 nodes have zero-profiles while having specified turbine capacities: \n",
      " {'LT00', 'SI00', 'BE00', 'SK00', 'ES00', 'IE00', 'FR00', 'AT00', 'CH00', 'LUV1', 'ITN1', 'ITSA', 'PL00', 'BG00', 'ITSI', 'CZ00', 'UK00', 'GR00', 'ITCS', 'DE00', 'RS00'} \n",
      "\n",
      "**PS Open** \n",
      " ============\n",
      "Zero-profiles for 36 out of 54 nodes: \n",
      " ['AL00' 'BE00' 'CY00' 'DKE1' 'DKW1' 'EE00' 'FI00' 'FR00' 'UK00' 'UKNI'\n",
      " 'GR03' 'HU00' 'IE00' 'ITCA' 'ITCN' 'ITCO' 'ITS1' 'ITSA' 'ITVI' 'LT00'\n",
      " 'LUB1' 'LUF1' 'LUG1' 'LUV1' 'LV00' 'ME00' 'MK00' 'MT00' 'NL00' 'NON1'\n",
      " 'RS00' 'SE01' 'SE02' 'SE03' 'SE04' 'SI00']. \n",
      "\n",
      "No capacities for 33 out of 54 nodes: \n",
      " ['AL00', 'BE00', 'CY00', 'DKE1', 'DKW1', 'EE00', 'FI00', 'UK00', 'UKNI', 'GR03', 'HU00', 'IE00', 'ITCA', 'ITCN', 'ITS1', 'ITSA', 'LT00', 'LUB1', 'LUF1', 'LUG1', 'LUV1', 'LV00', 'ME00', 'MT00', 'NL00', 'RS00', 'SE01', 'SE02', 'SE03', 'SE04', 'SI00', 'ITCO', 'ITVI']. \n",
      "\n",
      "3 out of 54 nodes have zero-profiles while having specified turbine capacities: \n",
      " {'NON1', 'FR00', 'MK00'} \n",
      "\n"
     ]
    }
   ],
   "source": [
    "for tech in phs:\n",
    "    check_consistency(year, tech, cap_2050, missing)"
   ]
  },
  {
   "cell_type": "markdown",
   "id": "1bf0442f",
   "metadata": {},
   "source": [
    "As expected for `closed loop PHS`, no inflows are available.\n",
    "\n",
    "Manually checking the raw data for the missing inflow data for `open loop PHS`, `Run of River` and `Reservoir` yields that the data is in fact not actually missing (empty fields) but filled with 0.0 values.\n",
    "\n",
    "✅ Thus, no missing data is found for 2050."
   ]
  },
  {
   "cell_type": "markdown",
   "id": "48917ba3",
   "metadata": {},
   "source": []
  }
 ],
 "metadata": {
  "kernelspec": {
   "display_name": "open-tyndp",
   "language": "python",
   "name": "python3"
  },
  "language_info": {
   "codemirror_mode": {
    "name": "ipython",
    "version": 3
   },
   "file_extension": ".py",
   "mimetype": "text/x-python",
   "name": "python",
   "nbconvert_exporter": "python",
   "pygments_lexer": "ipython3",
   "version": "3.12.11"
  }
 },
 "nbformat": 4,
 "nbformat_minor": 5
}
