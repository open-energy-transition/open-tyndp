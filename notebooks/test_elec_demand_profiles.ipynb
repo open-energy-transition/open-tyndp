{
 "cells": [
  {
   "metadata": {},
   "cell_type": "raw",
   "source": [
    "SPDX-FileCopyrightText: : Open Energy Transition gGmbH\n",
    "SPDX-License-Identifier: MIT"
   ],
   "id": "612ba0208d170a0e"
  },
  {
   "cell_type": "markdown",
   "id": "c4a6d2d2caa377a0",
   "metadata": {},
   "source": "# Imports"
  },
  {
   "cell_type": "code",
   "id": "7aa5ea3e86a961d2",
   "metadata": {},
   "source": [
    "import os\n",
    "from pathlib import Path\n",
    "\n",
    "import numpy as np\n",
    "import pandas as pd\n",
    "import pypsa\n",
    "from pandas.testing import assert_frame_equal"
   ],
   "outputs": [],
   "execution_count": null
  },
  {
   "cell_type": "code",
   "id": "e1742d8d931a5aba",
   "metadata": {},
   "source": [
    "if \"notebooks\" in os.getcwd():\n",
    "    %cd ..\n",
    "scenario = \"DE\"\n",
    "pyear = 2040\n",
    "\n",
    "fn_n = Path(f\"resources/tyndp/networks/base_s_all___{pyear}_brownfield.nc\")\n",
    "fn_raw = Path(\n",
    "    f\"data/tyndp_2024_bundle/Demand Profiles/{scenario}/{pyear}/ELECTRICITY_MARKET {scenario} {pyear}.xlsx\"\n",
    ")"
   ],
   "outputs": [],
   "execution_count": null
  },
  {
   "cell_type": "markdown",
   "id": "38d869f1603dbafb",
   "metadata": {},
   "source": "# Read network"
  },
  {
   "cell_type": "code",
   "id": "108dab3deaf44c0f",
   "metadata": {},
   "source": [
    "n = pypsa.Network(fn_n)"
   ],
   "outputs": [],
   "execution_count": null
  },
  {
   "cell_type": "code",
   "id": "56a7bccda4a17a1b",
   "metadata": {},
   "source": [
    "n.loads_t.p_set.head()"
   ],
   "outputs": [],
   "execution_count": null
  },
  {
   "cell_type": "markdown",
   "id": "35d25138a14aeb14",
   "metadata": {},
   "source": "# Read raw file"
  },
  {
   "cell_type": "code",
   "id": "d6d44cd981a04282",
   "metadata": {},
   "source": [
    "data = pd.read_excel(\n",
    "    fn_raw,\n",
    "    skiprows=11 if scenario != \"NT\" else 7,\n",
    "    index_col=0,\n",
    "    usecols=lambda name: name == \"Date\" or name == 2009,\n",
    "    sheet_name=None,\n",
    ")"
   ],
   "outputs": [],
   "execution_count": null
  },
  {
   "cell_type": "code",
   "id": "39f5d32e554e962e",
   "metadata": {},
   "source": [
    "data[\"PL00\"].index = data[\"AL00\"].index\n",
    "data[\"UK00\"] = pd.read_excel(\n",
    "    fn_raw,\n",
    "    skiprows=11,\n",
    "    index_col=0,\n",
    "    usecols=lambda name: name == \"Date\" or name == 2009 - 1,\n",
    "    sheet_name=\"UK00\",\n",
    ")"
   ],
   "outputs": [],
   "execution_count": null
  },
  {
   "cell_type": "code",
   "id": "9c03f5a7efab074a",
   "metadata": {},
   "source": [
    "demand = pd.concat(data, axis=1).droplevel(1, axis=1)"
   ],
   "outputs": [],
   "execution_count": null
  },
  {
   "cell_type": "code",
   "id": "32f311f9c4c0fadb",
   "metadata": {},
   "source": [
    "demand.index = demand.index.map(lambda t: t.replace(year=2013))\n",
    "\n",
    "demand.head()"
   ],
   "outputs": [],
   "execution_count": null
  },
  {
   "cell_type": "code",
   "id": "268e00b7b6cb0589",
   "metadata": {},
   "source": [
    "aggregation_map = (\n",
    "    pd.Series(n.snapshot_weightings.index.get_indexer(demand.index), index=demand.index)\n",
    "    .replace(-1, np.nan)\n",
    "    .ffill()\n",
    "    .astype(int)\n",
    "    .map(lambda i: n.snapshot_weightings.index[i])\n",
    ")\n",
    "demand_agg = demand.groupby(aggregation_map).mean()\n",
    "demand_agg.columns = demand.columns.str.replace(\"UK\", \"GB\")\n",
    "demand_agg.index.name = \"snapshot\"\n",
    "demand_agg.columns.name = \"Load\"\n",
    "\n",
    "demand_agg.head()"
   ],
   "outputs": [],
   "execution_count": null
  },
  {
   "cell_type": "markdown",
   "id": "9d49d897e335c45f",
   "metadata": {},
   "source": "# Compare"
  },
  {
   "cell_type": "code",
   "id": "cefe7918be7a5d51",
   "metadata": {},
   "source": [
    "assert_frame_equal(n.loads_t.p_set, demand_agg, check_like=True)"
   ],
   "outputs": [],
   "execution_count": null
  }
 ],
 "metadata": {
  "kernelspec": {
   "display_name": "",
   "language": "python",
   "name": ""
  },
  "language_info": {
   "codemirror_mode": {
    "name": "ipython",
    "version": 2
   },
   "file_extension": ".py",
   "mimetype": "text/x-python",
   "name": "python",
   "nbconvert_exporter": "python",
   "pygments_lexer": "ipython2",
   "version": "2.7.6"
  }
 },
 "nbformat": 4,
 "nbformat_minor": 5
}
