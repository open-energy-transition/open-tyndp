{
 "cells": [
  {
   "cell_type": "raw",
   "id": "612ba0208d170a0e",
   "metadata": {},
   "source": [
    "SPDX-FileCopyrightText: : Open Energy Transition gGmbH\n",
    "SPDX-License-Identifier: MIT"
   ]
  },
  {
   "cell_type": "markdown",
   "id": "c4a6d2d2caa377a0",
   "metadata": {},
   "source": "# Imports"
  },
  {
   "cell_type": "code",
   "execution_count": null,
   "id": "7aa5ea3e86a961d2",
   "metadata": {},
   "outputs": [],
   "source": [
    "import os\n",
    "from pathlib import Path\n",
    "\n",
    "import numpy as np\n",
    "import pandas as pd\n",
    "import pypsa\n",
    "from pandas.testing import assert_frame_equal"
   ]
  },
  {
   "cell_type": "code",
   "execution_count": null,
   "id": "e1742d8d931a5aba",
   "metadata": {},
   "outputs": [],
   "source": [
    "if \"notebooks\" in os.getcwd():\n",
    "    %cd ..\n",
    "scenario = \"NT\"\n",
    "pyear = 2040\n",
    "cyear = 2013\n",
    "\n",
    "fn_n = Path(f\"resources/tyndp/networks/base_s_all___{pyear}_brownfield.nc\")\n",
    "if scenario != \"NT\":\n",
    "    fn_raw = Path(\n",
    "        f\"data/tyndp_2024_bundle/Demand Profiles/{scenario}/{pyear}/ELECTRICITY_MARKET {scenario} {pyear}.xlsx\"\n",
    "    )\n",
    "else:\n",
    "    fn_raw = Path(\n",
    "        f\"data/tyndp_2024_bundle/Demand Profiles/{scenario}/Electricity demand profiles/{pyear}_National Trends.xlsx\"\n",
    "    )"
   ]
  },
  {
   "cell_type": "markdown",
   "id": "38d869f1603dbafb",
   "metadata": {},
   "source": "# Read network"
  },
  {
   "cell_type": "code",
   "execution_count": null,
   "id": "108dab3deaf44c0f",
   "metadata": {},
   "outputs": [],
   "source": [
    "n = pypsa.Network(fn_n)\n",
    "buses = n.buses.query(\"carrier=='AC' and not Bus.str.contains('DRES')\").index"
   ]
  },
  {
   "cell_type": "code",
   "execution_count": null,
   "id": "56a7bccda4a17a1b",
   "metadata": {},
   "outputs": [],
   "source": [
    "n.loads_t.p_set.head()"
   ]
  },
  {
   "cell_type": "markdown",
   "id": "35d25138a14aeb14",
   "metadata": {},
   "source": "# Read raw file"
  },
  {
   "cell_type": "code",
   "execution_count": null,
   "id": "d6d44cd981a04282",
   "metadata": {},
   "outputs": [],
   "source": [
    "cyear = cyear if scenario == \"NT\" else 2009\n",
    "data = pd.read_excel(\n",
    "    fn_raw,\n",
    "    skiprows=11 if scenario != \"NT\" else 7,\n",
    "    index_col=0,\n",
    "    usecols=lambda name: name == \"Date\" or name == cyear,\n",
    "    sheet_name=None,\n",
    ")"
   ]
  },
  {
   "cell_type": "code",
   "execution_count": null,
   "id": "39f5d32e554e962e",
   "metadata": {},
   "outputs": [],
   "source": [
    "if scenario in [\"DE\", \"GA\"]:\n",
    "    data[\"PL00\"].index = data[\"AL00\"].index\n",
    "    cyear_ = cyear if pyear == 2030 else cyear - 1\n",
    "    data[\"UK00\"] = pd.read_excel(\n",
    "        fn_raw,\n",
    "        skiprows=11 if scenario != \"NT\" else 7,\n",
    "        index_col=0,\n",
    "        usecols=lambda name: name == \"Date\" or name == cyear_,\n",
    "        sheet_name=\"UK00\",\n",
    "    )"
   ]
  },
  {
   "cell_type": "code",
   "execution_count": null,
   "id": "9c03f5a7efab074a",
   "metadata": {},
   "outputs": [],
   "source": [
    "demand = pd.concat(data, axis=1).droplevel(1, axis=1)\n",
    "demand.index = demand.index.map(lambda t: t.replace(year=2013))\n",
    "demand = demand.loc[f\"{cyear}-03-01\" : f\"{cyear}-03-07\"]"
   ]
  },
  {
   "cell_type": "code",
   "execution_count": null,
   "id": "268e00b7b6cb0589",
   "metadata": {},
   "outputs": [],
   "source": [
    "aggregation_map = (\n",
    "    pd.Series(n.snapshot_weightings.index.get_indexer(demand.index), index=demand.index)\n",
    "    .replace(-1, np.nan)\n",
    "    .ffill()\n",
    "    .astype(int)\n",
    "    .map(lambda i: n.snapshot_weightings.index[i])\n",
    ")\n",
    "demand_agg = demand.groupby(aggregation_map).mean()\n",
    "demand_agg.columns = demand.columns.str.replace(\"UK\", \"GB\")\n",
    "demand_agg = demand_agg[[c for c in demand_agg.columns if c in buses]]\n",
    "demand_agg.index.name = \"snapshot\"\n",
    "demand_agg.columns.name = \"Load\"\n",
    "\n",
    "demand_agg.head()"
   ]
  },
  {
   "cell_type": "markdown",
   "id": "9d49d897e335c45f",
   "metadata": {},
   "source": "# Compare"
  },
  {
   "cell_type": "code",
   "execution_count": null,
   "id": "cefe7918be7a5d51",
   "metadata": {},
   "outputs": [],
   "source": [
    "assert_frame_equal(n.loads_t.p_set, demand_agg, check_like=True)"
   ]
  }
 ],
 "metadata": {
  "kernelspec": {
   "display_name": "",
   "language": "python",
   "name": ""
  },
  "language_info": {
   "codemirror_mode": {
    "name": "ipython",
    "version": 2
   },
   "file_extension": ".py",
   "mimetype": "text/x-python",
   "name": "python",
   "nbconvert_exporter": "python",
   "pygments_lexer": "ipython2",
   "version": "2.7.6"
  }
 },
 "nbformat": 4,
 "nbformat_minor": 5
}
